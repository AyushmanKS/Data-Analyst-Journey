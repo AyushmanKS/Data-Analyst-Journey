{
 "cells": [
  {
   "cell_type": "markdown",
   "id": "16edf63a",
   "metadata": {},
   "source": [
    "## Handling Imbalanced Datasets\n",
    "### Up sampling\n",
    "### Down sampling"
   ]
  },
  {
   "cell_type": "markdown",
   "id": "ade8795f",
   "metadata": {
    "vscode": {
     "languageId": "plaintext"
    }
   },
   "source": [
    "## SMOTE - upsampling technique"
   ]
  },
  {
   "cell_type": "markdown",
   "id": "5ffbd3ac",
   "metadata": {},
   "source": []
  }
 ],
 "metadata": {
  "language_info": {
   "name": "python"
  }
 },
 "nbformat": 4,
 "nbformat_minor": 5
}
