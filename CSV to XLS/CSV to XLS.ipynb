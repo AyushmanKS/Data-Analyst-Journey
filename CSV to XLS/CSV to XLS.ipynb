{
 "cells": [
  {
   "cell_type": "code",
   "execution_count": 3,
   "id": "8753aa78",
   "metadata": {},
   "outputs": [
    {
     "name": "stdout",
     "output_type": "stream",
     "text": [
      "File converted successfully!\n"
     ]
    }
   ],
   "source": [
    "import pandas as pd\n",
    "\n",
    "# Load CSV file with encoding\n",
    "csv_file = \"sales data.csv\"\n",
    "df = pd.read_csv(csv_file, encoding=\"latin1\")  # Try \"latin1\", \"ISO-8859-1\" or \"cp1252\"\n",
    "\n",
    "# Save as XLSX instead of XLS\n",
    "xlsx_file = \"sales data.xlsx\"\n",
    "df.to_excel(xlsx_file, index=False, engine=\"openpyxl\")  # Ensure engine is specified\n",
    "\n",
    "print(\"File converted successfully!\")"
   ]
  }
 ],
 "metadata": {
  "kernelspec": {
   "display_name": "base",
   "language": "python",
   "name": "python3"
  },
  "language_info": {
   "codemirror_mode": {
    "name": "ipython",
    "version": 3
   },
   "file_extension": ".py",
   "mimetype": "text/x-python",
   "name": "python",
   "nbconvert_exporter": "python",
   "pygments_lexer": "ipython3",
   "version": "3.12.7"
  }
 },
 "nbformat": 4,
 "nbformat_minor": 5
}
